{
  "nbformat": 4,
  "nbformat_minor": 0,
  "metadata": {
    "colab": {
      "provenance": [],
      "collapsed_sections": []
    },
    "kernelspec": {
      "name": "python3",
      "display_name": "Python 3"
    },
    "language_info": {
      "name": "python"
    }
  },
  "cells": [
    {
      "cell_type": "code",
      "execution_count": 1,
      "metadata": {
        "colab": {
          "base_uri": "https://localhost:8080/"
        },
        "id": "HzJ6UsrEW-R1",
        "outputId": "e1fefa3d-8596-46a5-eace-eba6c301dbc4"
      },
      "outputs": [
        {
          "output_type": "stream",
          "name": "stdout",
          "text": [
            "\r0% [Working]\r            \rHit:1 http://security.ubuntu.com/ubuntu bionic-security InRelease\n",
            "\r0% [Connecting to archive.ubuntu.com] [Connected to cloud.r-project.org (108.15\r0% [1 InRelease gpgv 88.7 kB] [Connecting to archive.ubuntu.com] [Connected to \r                                                                               \rHit:2 https://cloud.r-project.org/bin/linux/ubuntu bionic-cran40/ InRelease\n",
            "\r0% [1 InRelease gpgv 88.7 kB] [Connecting to archive.ubuntu.com (91.189.91.39)]\r                                                                               \rHit:3 http://archive.ubuntu.com/ubuntu bionic InRelease\n",
            "\r0% [1 InRelease gpgv 88.7 kB] [Waiting for headers] [Waiting for headers] [Conn\r                                                                               \rIgn:4 https://developer.download.nvidia.com/compute/machine-learning/repos/ubuntu1804/x86_64  InRelease\n",
            "\r0% [1 InRelease gpgv 88.7 kB] [Waiting for headers] [Waiting for headers] [Conn\r                                                                               \rHit:5 https://developer.download.nvidia.com/compute/cuda/repos/ubuntu1804/x86_64  InRelease\n",
            "\r                                                                               \r0% [1 InRelease gpgv 88.7 kB] [Waiting for headers] [Waiting for headers]\r                                                                         \rHit:6 http://archive.ubuntu.com/ubuntu bionic-updates InRelease\n",
            "\r0% [1 InRelease gpgv 88.7 kB] [Waiting for headers] [Waiting for headers] [Wait\r                                                                               \rHit:7 https://developer.download.nvidia.com/compute/machine-learning/repos/ubuntu1804/x86_64  Release\n",
            "Hit:8 http://archive.ubuntu.com/ubuntu bionic-backports InRelease\n",
            "Hit:9 http://ppa.launchpad.net/c2d4u.team/c2d4u4.0+/ubuntu bionic InRelease\n",
            "Hit:10 http://ppa.launchpad.net/cran/libgit2/ubuntu bionic InRelease\n",
            "Hit:11 http://ppa.launchpad.net/deadsnakes/ppa/ubuntu bionic InRelease\n",
            "Hit:12 http://ppa.launchpad.net/graphics-drivers/ppa/ubuntu bionic InRelease\n",
            "Reading package lists... Done\n"
          ]
        }
      ],
      "source": [
        "import os\n",
        "# Find the latest version of spark 3.0  from http://www.apache.org/dist/spark/ and enter as the spark version\n",
        "# For example:\n",
        "# spark_version = 'spark-3.0.3'\n",
        "spark_version = 'spark-3.1.3'\n",
        "os.environ['SPARK_VERSION']=spark_version\n",
        "# Install Spark and Java\n",
        "!apt-get update\n",
        "!apt-get install openjdk-11-jdk-headless -qq > /dev/null\n",
        "!wget -q http://www.apache.org/dist/spark/spark-3.1.3/spark-3.1.3-bin-hadoop2.7.tgz\n",
        "!tar xf spark-3.1.3-bin-hadoop2.7.tgz\n",
        "!pip install -q findspark\n",
        "# Set Environment Variables\n",
        "os.environ[\"JAVA_HOME\"] = \"/usr/lib/jvm/java-11-openjdk-amd64\"\n",
        "os.environ[\"SPARK_HOME\"] = f\"/content/{spark_version}-bin-hadoop2.7\"\n",
        "# Start a SparkSession\n",
        "import findspark\n",
        "findspark.init()"
      ]
    },
    {
      "cell_type": "code",
      "source": [
        "!wget https://jdbc.postgresql.org/download/postgresql-42.2.9.jar"
      ],
      "metadata": {
        "colab": {
          "base_uri": "https://localhost:8080/"
        },
        "id": "4VfSVZ12Xjzx",
        "outputId": "8f4afdbc-7a02-4928-fe25-cea56e06bd94"
      },
      "execution_count": 2,
      "outputs": [
        {
          "output_type": "stream",
          "name": "stdout",
          "text": [
            "--2022-09-28 23:00:12--  https://jdbc.postgresql.org/download/postgresql-42.2.9.jar\n",
            "Resolving jdbc.postgresql.org (jdbc.postgresql.org)... 72.32.157.228, 2001:4800:3e1:1::228\n",
            "Connecting to jdbc.postgresql.org (jdbc.postgresql.org)|72.32.157.228|:443... connected.\n",
            "HTTP request sent, awaiting response... 200 OK\n",
            "Length: 914037 (893K) [application/java-archive]\n",
            "Saving to: ‘postgresql-42.2.9.jar.1’\n",
            "\n",
            "postgresql-42.2.9.j 100%[===================>] 892.61K  4.71MB/s    in 0.2s    \n",
            "\n",
            "2022-09-28 23:00:12 (4.71 MB/s) - ‘postgresql-42.2.9.jar.1’ saved [914037/914037]\n",
            "\n"
          ]
        }
      ]
    },
    {
      "cell_type": "code",
      "source": [
        "from pyspark.sql import SparkSession\n",
        "spark = SparkSession.builder.appName(\"CloudETL\").config(\"spark.driver.extraClassPath\",\"/content/postgresql-42.2.9.jar\").getOrCreate()"
      ],
      "metadata": {
        "id": "SjeYl_aHaw-c"
      },
      "execution_count": 3,
      "outputs": []
    },
    {
      "cell_type": "code",
      "source": [
        "# Read in data from S3 Buckets\n",
        "from pyspark import SparkFiles\n",
        "url=\"https://iyj-finalprojectbucket.s3.amazonaws.com/output.csv\"\n",
        "spark.sparkContext.addFile(url)\n",
        "output_df = spark.read.csv(SparkFiles.get(\"output.csv\"), sep=\",\", header=True, inferSchema=True)\n",
        "# Show DataFrame\n",
        "output_df.show()"
      ],
      "metadata": {
        "colab": {
          "base_uri": "https://localhost:8080/"
        },
        "id": "4mucb0PubAeJ",
        "outputId": "87db8109-faf8-4da4-abf9-b7a491349a09"
      },
      "execution_count": 4,
      "outputs": [
        {
          "output_type": "stream",
          "name": "stdout",
          "text": [
            "+----------+-----+-------------+-----------+---------+------------------+\n",
            "|      Date|Month|Date of Month|Day of Week|Test Data|         Predicted|\n",
            "+----------+-----+-------------+-----------+---------+------------------+\n",
            "|1994-01-02|    1|            2|          7|     7772|11891.849166666667|\n",
            "|1994-01-09|    1|            9|          7|     7910|12474.083214285714|\n",
            "|1994-01-13|    1|           13|          4|    11212|         12191.577|\n",
            "|1994-01-16|    1|           16|          7|     8123|12826.990821428572|\n",
            "|1994-01-23|    1|           23|          7|     8310| 12410.07666666667|\n",
            "|1994-01-31|    1|           31|          1|    10765|12575.542047619052|\n",
            "|1994-02-06|    2|            6|          7|     8309|13603.952499999998|\n",
            "|1994-02-10|    2|           10|          4|    11623| 7471.151964285715|\n",
            "|1994-02-17|    2|           17|          4|    11674|12043.235333333338|\n",
            "|1994-02-25|    2|           25|          5|    11905|7457.9288809523805|\n",
            "|1994-02-27|    2|           27|          7|     8195|13151.452722222226|\n",
            "|1994-03-01|    3|            1|          2|    12127|14358.772833333333|\n",
            "|1994-03-02|    3|            2|          3|    11735|12069.165166666666|\n",
            "|1994-03-13|    3|           13|          7|     8248|11848.206166666665|\n",
            "|1994-03-15|    3|           15|          2|    12298|         12754.631|\n",
            "|1994-03-22|    3|           22|          2|    11964|12426.065428571432|\n",
            "|1994-03-27|    3|           27|          7|     8189| 13154.46826190476|\n",
            "|1994-04-09|    4|            9|          6|     8791| 8283.578500000001|\n",
            "|1994-04-12|    4|           12|          2|    12146| 8494.514166666668|\n",
            "|1994-04-28|    4|           28|          4|    11527|12883.844380952381|\n",
            "+----------+-----+-------------+-----------+---------+------------------+\n",
            "only showing top 20 rows\n",
            "\n"
          ]
        }
      ]
    },
    {
      "cell_type": "code",
      "source": [
        "# Import struct fields that we can use\n",
        "from pyspark.sql.types import StructField, IntegerType, DateType, StructType, DoubleType"
      ],
      "metadata": {
        "id": "tlksGWK1SDU4"
      },
      "execution_count": 5,
      "outputs": []
    },
    {
      "cell_type": "code",
      "source": [
        "# Next we need to create the list of struct fields\n",
        "schema = [StructField(\"Date\", DateType(), True), \n",
        "          StructField(\"Month\", IntegerType(), True), \n",
        "          StructField(\"Date of Month\", IntegerType(), True), \n",
        "          StructField(\"Day of Week\", IntegerType(), True),\n",
        "          StructField(\"Test Data\", IntegerType(), True),\n",
        "          StructField(\"Predicted\", DoubleType(), True),]\n",
        "schema"
      ],
      "metadata": {
        "colab": {
          "base_uri": "https://localhost:8080/"
        },
        "id": "xzjyCQ9JTZvs",
        "outputId": "9116b011-123a-4b34-c22b-c2e95ae93013"
      },
      "execution_count": 6,
      "outputs": [
        {
          "output_type": "execute_result",
          "data": {
            "text/plain": [
              "[StructField(Date,DateType,true),\n",
              " StructField(Month,IntegerType,true),\n",
              " StructField(Date of Month,IntegerType,true),\n",
              " StructField(Day of Week,IntegerType,true),\n",
              " StructField(Test Data,IntegerType,true),\n",
              " StructField(Predicted,DoubleType,true)]"
            ]
          },
          "metadata": {},
          "execution_count": 6
        }
      ]
    },
    {
      "cell_type": "code",
      "source": [
        "# Pass in our fields\n",
        "final = StructType(fields=schema)\n",
        "final"
      ],
      "metadata": {
        "colab": {
          "base_uri": "https://localhost:8080/"
        },
        "id": "a5fw2CtyUN6d",
        "outputId": "c47e9f22-009a-4fa8-a7c9-bbf88cd7925a"
      },
      "execution_count": 7,
      "outputs": [
        {
          "output_type": "execute_result",
          "data": {
            "text/plain": [
              "StructType(List(StructField(Date,DateType,true),StructField(Month,IntegerType,true),StructField(Date of Month,IntegerType,true),StructField(Day of Week,IntegerType,true),StructField(Test Data,IntegerType,true),StructField(Predicted,DoubleType,true)))"
            ]
          },
          "metadata": {},
          "execution_count": 7
        }
      ]
    },
    {
      "cell_type": "code",
      "source": [
        "# Read our data from S3 Buckets with our new schema\n",
        "from pyspark import SparkFiles\n",
        "url=\"https://iyj-finalprojectbucket.s3.amazonaws.com/output.csv\"\n",
        "spark.sparkContext.addFile(url)\n",
        "output_df = spark.read.csv(SparkFiles.get(\"output.csv\"), schema=final, sep=\",\", header=True, inferSchema=True)\n",
        "# Show DataFrame\n",
        "output_df.show()"
      ],
      "metadata": {
        "colab": {
          "base_uri": "https://localhost:8080/"
        },
        "id": "36qKGtqPUW7c",
        "outputId": "aecbe6fb-eb7c-4f5b-c0c2-5c9683591a83"
      },
      "execution_count": 14,
      "outputs": [
        {
          "output_type": "stream",
          "name": "stdout",
          "text": [
            "+----------+-----+-------------+-----------+---------+------------------+\n",
            "|      Date|Month|Date of Month|Day of Week|Test Data|         Predicted|\n",
            "+----------+-----+-------------+-----------+---------+------------------+\n",
            "|1994-01-02|    1|            2|          7|     7772|11891.849166666667|\n",
            "|1994-01-09|    1|            9|          7|     7910|12474.083214285714|\n",
            "|1994-01-13|    1|           13|          4|    11212|         12191.577|\n",
            "|1994-01-16|    1|           16|          7|     8123|12826.990821428572|\n",
            "|1994-01-23|    1|           23|          7|     8310| 12410.07666666667|\n",
            "|1994-01-31|    1|           31|          1|    10765|12575.542047619052|\n",
            "|1994-02-06|    2|            6|          7|     8309|13603.952499999998|\n",
            "|1994-02-10|    2|           10|          4|    11623| 7471.151964285715|\n",
            "|1994-02-17|    2|           17|          4|    11674|12043.235333333338|\n",
            "|1994-02-25|    2|           25|          5|    11905|7457.9288809523805|\n",
            "|1994-02-27|    2|           27|          7|     8195|13151.452722222226|\n",
            "|1994-03-01|    3|            1|          2|    12127|14358.772833333333|\n",
            "|1994-03-02|    3|            2|          3|    11735|12069.165166666666|\n",
            "|1994-03-13|    3|           13|          7|     8248|11848.206166666665|\n",
            "|1994-03-15|    3|           15|          2|    12298|         12754.631|\n",
            "|1994-03-22|    3|           22|          2|    11964|12426.065428571432|\n",
            "|1994-03-27|    3|           27|          7|     8189| 13154.46826190476|\n",
            "|1994-04-09|    4|            9|          6|     8791| 8283.578500000001|\n",
            "|1994-04-12|    4|           12|          2|    12146| 8494.514166666668|\n",
            "|1994-04-28|    4|           28|          4|    11527|12883.844380952381|\n",
            "+----------+-----+-------------+-----------+---------+------------------+\n",
            "only showing top 20 rows\n",
            "\n"
          ]
        }
      ]
    },
    {
      "cell_type": "code",
      "source": [
        "output_df.show(5)"
      ],
      "metadata": {
        "colab": {
          "base_uri": "https://localhost:8080/"
        },
        "id": "vJmbB163Ufnn",
        "outputId": "0734c690-c157-4e8c-e987-58511b53f708"
      },
      "execution_count": 15,
      "outputs": [
        {
          "output_type": "stream",
          "name": "stdout",
          "text": [
            "+----------+-----+-------------+-----------+---------+------------------+\n",
            "|      Date|Month|Date of Month|Day of Week|Test Data|         Predicted|\n",
            "+----------+-----+-------------+-----------+---------+------------------+\n",
            "|1994-01-02|    1|            2|          7|     7772|11891.849166666667|\n",
            "|1994-01-09|    1|            9|          7|     7910|12474.083214285714|\n",
            "|1994-01-13|    1|           13|          4|    11212|         12191.577|\n",
            "|1994-01-16|    1|           16|          7|     8123|12826.990821428572|\n",
            "|1994-01-23|    1|           23|          7|     8310| 12410.07666666667|\n",
            "+----------+-----+-------------+-----------+---------+------------------+\n",
            "only showing top 5 rows\n",
            "\n"
          ]
        }
      ]
    },
    {
      "cell_type": "code",
      "source": [
        "output_df.dtypes"
      ],
      "metadata": {
        "colab": {
          "base_uri": "https://localhost:8080/"
        },
        "id": "G3RCELrAUsJc",
        "outputId": "b531ba10-c810-4b9e-b2c0-41123c7589d7"
      },
      "execution_count": 16,
      "outputs": [
        {
          "output_type": "execute_result",
          "data": {
            "text/plain": [
              "[('Date', 'date'),\n",
              " ('Month', 'int'),\n",
              " ('Date of Month', 'int'),\n",
              " ('Day of Week', 'int'),\n",
              " ('Test Data', 'int'),\n",
              " ('Predicted', 'double')]"
            ]
          },
          "metadata": {},
          "execution_count": 16
        }
      ]
    },
    {
      "cell_type": "code",
      "source": [
        "# Configure settings for RDS\n",
        "mode = \"append\"\n",
        "jdbc_url=\"jdbc:postgresql://mypostgresdb.cqfboxk2nwzu.us-east-2.rds.amazonaws.com:5432/postgres\"\n",
        "config = {\"user\":\"root\",\n",
        "          \"password\":\"FinalProject8!\",\n",
        "          \"driver\":\"org.postgresql.Driver\"}"
      ],
      "metadata": {
        "id": "Ow7qNcdiXloz"
      },
      "execution_count": 17,
      "outputs": []
    },
    {
      "cell_type": "code",
      "source": [
        "# Write DataFrame to active_user table in RDS\n",
        "output_df.write.jdbc(url=jdbc_url, table='OutputTable', mode=mode, properties=config)"
      ],
      "metadata": {
        "id": "7OMDp0DHeAAB"
      },
      "execution_count": 19,
      "outputs": []
    }
  ]
}